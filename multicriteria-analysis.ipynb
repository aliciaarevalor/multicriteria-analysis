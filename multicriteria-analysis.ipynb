{
 "cells": [
  {
   "cell_type": "markdown",
   "id": "6da602cd",
   "metadata": {},
   "source": [
    "# Multicriteria Spatial Analysis: Ideal retirement areas in Colombia  \n",
    "\n",
    "Geoprocesamiento 2025-1S  \n",
    "Universidad Nacional de Colombia  \n",
    "Authors: Alicia Arévalo Robinson and Ricardo Andrés Martinez Soto  \n",
    "Link to repository:"
   ]
  },
  {
   "cell_type": "markdown",
   "id": "2d69ffd5",
   "metadata": {},
   "source": [
    "#### **Objective**\n",
    "To identify the most suitable areas for retirement living in Colombia, considering climate, accessibility, medical services, and the quality of the natural environment."
   ]
  },
  {
   "cell_type": "code",
   "execution_count": null,
   "id": "49c8e511",
   "metadata": {},
   "outputs": [],
   "source": []
  }
 ],
 "metadata": {
  "language_info": {
   "name": "python"
  }
 },
 "nbformat": 4,
 "nbformat_minor": 5
}
